{
 "cells": [
  {
   "cell_type": "code",
   "execution_count": 1,
   "id": "b433216b-f6ef-486d-aa78-eeffb7dc0e63",
   "metadata": {
    "execution": {
     "iopub.execute_input": "2025-08-28T19:42:41.462655Z",
     "iopub.status.busy": "2025-08-28T19:42:41.462406Z",
     "iopub.status.idle": "2025-08-28T19:42:41.947190Z",
     "shell.execute_reply": "2025-08-28T19:42:41.945981Z"
    }
   },
   "outputs": [
    {
     "name": "stdout",
     "output_type": "stream",
     "text": [
      "/Users/Nacef/repos/mscbio2025/lecture-02\r\n"
     ]
    },
    {
     "name": "stdout",
     "output_type": "stream",
     "text": [
      "\u001b[01;34m.\u001b[0m\r\n",
      "├── \u001b[01;34mcourse-filesystem-lab\u001b[0m\r\n",
      "│   ├── \u001b[01;34mdata\u001b[0m\r\n",
      "│   │   └── \u001b[00mSpellman.csv\u001b[0m\r\n",
      "│   ├── \u001b[01;34minterim\u001b[0m\r\n",
      "│   │   └── \u001b[00mSpellman.csv\u001b[0m\r\n",
      "│   └── \u001b[01;34mresults\u001b[0m\r\n",
      "├── \u001b[01;34mdemo_project\u001b[0m\r\n",
      "│   ├── \u001b[01;34mdata\u001b[0m\r\n",
      "│   │   └── \u001b[00mdummy.txt\u001b[0m\r\n",
      "│   └── \u001b[01;34mresults\u001b[0m\r\n",
      "├── \u001b[00mlecture-02-notebook.ipynb\u001b[0m\r\n",
      "├── \u001b[00mlecture-02-script.sh\u001b[0m\r\n",
      "├── \u001b[00mlecture-02.log\u001b[0m\r\n",
      "└── \u001b[00mREADME.md\u001b[0m\r\n",
      "\r\n",
      "8 directories, 7 files\r\n"
     ]
    },
    {
     "name": "stdout",
     "output_type": "stream",
     "text": [
      "\u001b[1m\u001b[34mcourse-filesystem-lab\u001b[m\u001b[m     lecture-02-notebook.ipynb lecture-02.log\r\n",
      "\u001b[1m\u001b[34mdemo_project\u001b[m\u001b[m              lecture-02-script.sh      README.md\r\n"
     ]
    },
    {
     "name": "stdout",
     "output_type": "stream",
     "text": [
      "/Users/Nacef/repos/mscbio2025/.pixi/envs/default/bin/python\r\n"
     ]
    }
   ],
   "source": [
    "!pwd\n",
    "!tree\n",
    "!ls\n",
    "!which python"
   ]
  }
 ],
 "metadata": {
  "kernelspec": {
   "display_name": "Python 3 (ipykernel)",
   "language": "python",
   "name": "python3"
  },
  "language_info": {
   "codemirror_mode": {
    "name": "ipython",
    "version": 3
   },
   "file_extension": ".py",
   "mimetype": "text/x-python",
   "name": "python",
   "nbconvert_exporter": "python",
   "pygments_lexer": "ipython3",
   "version": "3.13.5"
  }
 },
 "nbformat": 4,
 "nbformat_minor": 5
}
